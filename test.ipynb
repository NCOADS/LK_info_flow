{
 "cells": [
  {
   "cell_type": "code",
   "execution_count": 1,
   "metadata": {},
   "outputs": [],
   "source": [
    "from src.linear_causality import LinearLKInformationFlow"
   ]
  },
  {
   "cell_type": "code",
   "execution_count": 2,
   "metadata": {},
   "outputs": [],
   "source": [
    "import numpy as np\n",
    "from tqdm import tqdm\n",
    "# from causality_subspace import causality_subspace\n",
    "\n",
    "dt=1\n",
    "pn=1\n",
    "T1=[];T2=[]\n",
    "# pca = PCA(n_components=5)  # 假设我们想将数据降到2维  \n",
    "Nt=10000;\n",
    "np.random.seed = 5\n",
    "# for i in tqdm(range(100)):\n",
    "X1=np.random.randn(5,Nt)*0.2\n",
    "X2=np.random.randn(5,Nt)*0.2\n",
    "\n",
    "A1=np.array([[0.9,0.6,0,0.6,0],[0,0.8,0.6,0,0.6],[0,0,0.9,0,0],[0,0,0,0.2,0],[0,0,0,0,0.2]]).T;\n",
    "A2=np.array([[0.2,0.6,0,0.6,0],[0,0.2,0.6,0,0.6],[0,0,0.2,0,0],[0,0,0,0.2,0],[0,0,0,0,0.2]]).T;\n",
    "\n",
    "B1=-np.array([[0,0,0,0,0],[0,0.,0,0,0],[0,0,0,0,0],[0,0,0,0,0],[0,0,0,0,0]]);\n",
    "B2=-np.array([[0,0,0,0,0],[0,0.0,0,0,0],[0,0,0,0,0],[0,0,0,0.4,0],[0,0,0,0,0]]);\n",
    "for it in range(1,Nt):\n",
    "    random_noise_1 = np.random.randn(5)*0.1\n",
    "    random_noise_2 = np.random.randn(5)*0.1\n",
    "    X1[:,it]=A1@X1[:,it-1]+X1[:,it]+1*B1@X2[:,it-1] + random_noise_1\n",
    "    X2[:,it]=A2@X2[:,it-1]+X2[:,it]+1*B2@X1[:,it-1] + random_noise_2\n",
    "    \n",
    "XX=np.zeros([10,Nt])\n",
    "XX[:5]=X1\n",
    "XX[5:]=X2"
   ]
  },
  {
   "cell_type": "code",
   "execution_count": 3,
   "metadata": {},
   "outputs": [
    {
     "data": {
      "text/plain": [
       "array([[0.9, 0. , 0. , 0. , 0. ],\n",
       "       [0.6, 0.8, 0. , 0. , 0. ],\n",
       "       [0. , 0.6, 0.9, 0. , 0. ],\n",
       "       [0.6, 0. , 0. , 0.2, 0. ],\n",
       "       [0. , 0.6, 0. , 0. , 0.2]])"
      ]
     },
     "execution_count": 3,
     "metadata": {},
     "output_type": "execute_result"
    }
   ],
   "source": [
    "A1"
   ]
  },
  {
   "cell_type": "code",
   "execution_count": 38,
   "metadata": {},
   "outputs": [],
   "source": [
    "# segments = [(0, 1),(1,2),(2,3),(3,4),(4,5),(5,6),(6,7),(7,8),(8,9),(9,10)]\n",
    "segments = [(0, 5),(5,10)]"
   ]
  },
  {
   "cell_type": "code",
   "execution_count": 39,
   "metadata": {},
   "outputs": [],
   "source": [
    "lkif = LinearLKInformationFlow(np,1)\n",
    "lkif.causality_estimate(XX[:,-10000:].T, lag_list=[1,2,5], segments=segments)"
   ]
  },
  {
   "cell_type": "code",
   "execution_count": 40,
   "metadata": {},
   "outputs": [],
   "source": [
    "a = lkif.information_flow[:,:10][:2,:2]"
   ]
  },
  {
   "cell_type": "code",
   "execution_count": 41,
   "metadata": {},
   "outputs": [],
   "source": [
    "b = (lkif.information_flow[:,:10]/lkif.normalizer)[:2,:2]"
   ]
  },
  {
   "cell_type": "code",
   "execution_count": 42,
   "metadata": {},
   "outputs": [
    {
     "data": {
      "text/plain": [
       "array([[-1.98587680e+00, -2.20608196e-04, -6.06783741e-04,\n",
       "         3.46907244e-04, -1.67876576e-03, -3.23286078e-04],\n",
       "       [ 3.55277492e-01, -4.01073145e+00, -9.98656920e-02,\n",
       "         1.58709110e-03,  6.59199406e-03,  1.38764531e-03]])"
      ]
     },
     "execution_count": 42,
     "metadata": {},
     "output_type": "execute_result"
    }
   ],
   "source": [
    "lkif.information_flow"
   ]
  },
  {
   "cell_type": "code",
   "execution_count": 43,
   "metadata": {},
   "outputs": [],
   "source": [
    "result_dict = lkif.get_dict()"
   ]
  },
  {
   "cell_type": "code",
   "execution_count": 44,
   "metadata": {},
   "outputs": [
    {
     "data": {
      "text/plain": [
       "array([[-1.98587680e+00, -2.20608196e-04, -6.06783741e-04,\n",
       "         3.46907244e-04, -1.67876576e-03, -3.23286078e-04],\n",
       "       [ 3.55277492e-01, -4.01073145e+00, -9.98656920e-02,\n",
       "         1.58709110e-03,  6.59199406e-03,  1.38764531e-03]])"
      ]
     },
     "execution_count": 44,
     "metadata": {},
     "output_type": "execute_result"
    }
   ],
   "source": [
    "result_dict[\"information_flow\"]"
   ]
  },
  {
   "cell_type": "code",
   "execution_count": 45,
   "metadata": {},
   "outputs": [
    {
     "data": {
      "text/plain": [
       "array([[0.0576074 , 0.00451078, 0.04896584, 0.00291211, 0.02481565,\n",
       "        0.00233536],\n",
       "       [0.19446882, 0.05760585, 0.21145913, 0.02738143, 0.08219894,\n",
       "        0.00500308]])"
      ]
     },
     "execution_count": 45,
     "metadata": {},
     "output_type": "execute_result"
    }
   ],
   "source": [
    "result_dict[\"statistics\"][\"p99_critical_value\"]"
   ]
  },
  {
   "cell_type": "code",
   "execution_count": 46,
   "metadata": {},
   "outputs": [
    {
     "data": {
      "text/plain": [
       "array([[0.04383382, 0.00343228, 0.0372584 , 0.00221584, 0.01888237,\n",
       "        0.00177699],\n",
       "       [0.14797249, 0.04383264, 0.16090052, 0.02083469, 0.06254566,\n",
       "        0.00380687]])"
      ]
     },
     "execution_count": 46,
     "metadata": {},
     "output_type": "execute_result"
    }
   ],
   "source": [
    "result_dict[\"statistics\"][\"p95_critical_value\"]"
   ]
  },
  {
   "cell_type": "code",
   "execution_count": 48,
   "metadata": {},
   "outputs": [
    {
     "data": {
      "text/plain": [
       "array([[ True, False, False, False, False, False],\n",
       "       [ True,  True, False, False, False, False]])"
      ]
     },
     "execution_count": 48,
     "metadata": {},
     "output_type": "execute_result"
    }
   ],
   "source": [
    "np.abs(result_dict[\"information_flow\"]) > result_dict[\"statistics\"][\"p99_critical_value\"]"
   ]
  },
  {
   "cell_type": "code",
   "execution_count": null,
   "metadata": {},
   "outputs": [],
   "source": []
  }
 ],
 "metadata": {
  "kernelspec": {
   "display_name": "LKF",
   "language": "python",
   "name": "python3"
  },
  "language_info": {
   "codemirror_mode": {
    "name": "ipython",
    "version": 3
   },
   "file_extension": ".py",
   "mimetype": "text/x-python",
   "name": "python",
   "nbconvert_exporter": "python",
   "pygments_lexer": "ipython3",
   "version": "3.8.19"
  }
 },
 "nbformat": 4,
 "nbformat_minor": 2
}
