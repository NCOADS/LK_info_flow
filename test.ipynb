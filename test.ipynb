{
 "cells": [
  {
   "cell_type": "code",
   "execution_count": 1,
   "metadata": {},
   "outputs": [],
   "source": [
    "from src.linear_causality import LinearLKInformationFlow"
   ]
  },
  {
   "cell_type": "code",
   "execution_count": 2,
   "metadata": {},
   "outputs": [],
   "source": [
    "import numpy as np\n",
    "from tqdm import tqdm\n",
    "# from causality_subspace import causality_subspace\n",
    "\n",
    "dt=1\n",
    "pn=1\n",
    "T1=[];T2=[]\n",
    "# pca = PCA(n_components=5)  # 假设我们想将数据降到2维  \n",
    "Nt=10000;\n",
    "np.random.seed = 5\n",
    "# for i in tqdm(range(100)):\n",
    "X1=np.random.randn(5,Nt)*0.2\n",
    "X2=np.random.randn(5,Nt)*0.2\n",
    "\n",
    "A1=np.array([[0.9,0.6,0,0.6,0],[0,0.8,0.6,0,0.6],[0,0,0.9,0,0],[0,0,0,0.2,0],[0,0,0,0,0.2]]).T;\n",
    "A2=np.array([[0.2,0.6,0,0.6,0],[0,0.2,0.6,0,0.6],[0,0,0.2,0,0],[0,0,0,0.2,0],[0,0,0,0,0.2]]).T;\n",
    "\n",
    "B1=-np.array([[0,0,0,0,0],[0,0.,0,0,0],[0,0,0,0,0],[0,0,0,0,0],[0,0,0,0,0]]);\n",
    "B2=-np.array([[0,0,0,0,0],[0,0.0,0,0,0],[0,0,0,0,0],[0,0,0,0.4,0],[0,0,0,0,0]]);\n",
    "for it in range(1,Nt):\n",
    "    random_noise_1 = np.random.randn(5)*0.1\n",
    "    random_noise_2 = np.random.randn(5)*0.1\n",
    "    X1[:,it]=A1@X1[:,it-1]+X1[:,it]+1*B1@X2[:,it-1] + random_noise_1\n",
    "    X2[:,it]=A2@X2[:,it-1]+X2[:,it]+1*B2@X1[:,it-1] + random_noise_2\n",
    "    \n",
    "XX=np.zeros([10,Nt])\n",
    "XX[:5]=X1\n",
    "XX[5:]=X2"
   ]
  },
  {
   "cell_type": "code",
   "execution_count": 3,
   "metadata": {},
   "outputs": [
    {
     "data": {
      "text/plain": [
       "array([[0.9, 0. , 0. , 0. , 0. ],\n",
       "       [0.6, 0.8, 0. , 0. , 0. ],\n",
       "       [0. , 0.6, 0.9, 0. , 0. ],\n",
       "       [0.6, 0. , 0. , 0.2, 0. ],\n",
       "       [0. , 0.6, 0. , 0. , 0.2]])"
      ]
     },
     "execution_count": 3,
     "metadata": {},
     "output_type": "execute_result"
    }
   ],
   "source": [
    "A1"
   ]
  },
  {
   "cell_type": "code",
   "execution_count": 4,
   "metadata": {},
   "outputs": [],
   "source": [
    "# segments = [(0, 1),(1,2),(2,3),(3,4),(4,5),(5,6),(6,7),(7,8),(8,9),(9,10)]\n",
    "segments = [(0, 5),(5,10)]"
   ]
  },
  {
   "cell_type": "code",
   "execution_count": 5,
   "metadata": {},
   "outputs": [],
   "source": [
    "lkif = LinearLKInformationFlow(np,1)\n",
    "lkif.causality_estimate(XX[:,-10000:].T, segments)"
   ]
  },
  {
   "cell_type": "code",
   "execution_count": 7,
   "metadata": {},
   "outputs": [],
   "source": [
    "result_dict = lkif.get_dict()"
   ]
  },
  {
   "cell_type": "code",
   "execution_count": 8,
   "metadata": {},
   "outputs": [
    {
     "data": {
      "text/plain": [
       "array([[-1.99110737e+00,  2.43419529e-03],\n",
       "       [ 2.63149928e-01, -4.02687659e+00]])"
      ]
     },
     "execution_count": 8,
     "metadata": {},
     "output_type": "execute_result"
    }
   ],
   "source": [
    "result_dict[\"information_flow\"]"
   ]
  },
  {
   "cell_type": "code",
   "execution_count": 9,
   "metadata": {},
   "outputs": [
    {
     "data": {
      "text/plain": [
       "array([[0.03941324, 0.00364921],\n",
       "       [0.01695025, 0.05020407]])"
      ]
     },
     "execution_count": 9,
     "metadata": {},
     "output_type": "execute_result"
    }
   ],
   "source": [
    "result_dict[\"statistics\"][\"p99_critical_value\"]"
   ]
  },
  {
   "cell_type": "code",
   "execution_count": 11,
   "metadata": {},
   "outputs": [
    {
     "data": {
      "text/plain": [
       "array([[0.02998977, 0.0027767 ],\n",
       "       [0.01289755, 0.03820058]])"
      ]
     },
     "execution_count": 11,
     "metadata": {},
     "output_type": "execute_result"
    }
   ],
   "source": [
    "result_dict[\"statistics\"][\"p95_critical_value\"]"
   ]
  },
  {
   "cell_type": "code",
   "execution_count": null,
   "metadata": {},
   "outputs": [],
   "source": []
  }
 ],
 "metadata": {
  "kernelspec": {
   "display_name": "LKF",
   "language": "python",
   "name": "python3"
  },
  "language_info": {
   "codemirror_mode": {
    "name": "ipython",
    "version": 3
   },
   "file_extension": ".py",
   "mimetype": "text/x-python",
   "name": "python",
   "nbconvert_exporter": "python",
   "pygments_lexer": "ipython3",
   "version": "3.8.19"
  }
 },
 "nbformat": 4,
 "nbformat_minor": 2
}
